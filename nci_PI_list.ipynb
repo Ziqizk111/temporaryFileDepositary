{
 "cells": [
  {
   "cell_type": "code",
   "execution_count": 3,
   "metadata": {},
   "outputs": [],
   "source": [
    "import requests\n",
    "from bs4 import BeautifulSoup\n",
    "\n",
    "# 要爬取的网址\n",
    "url = 'https://ccr.cancer.gov/staff-directory?f%5B0%5D=position_type%3APrincipal%20Investigator&page=5'\n",
    "\n",
    "# 发送 GET 请求获取网页内容\n",
    "response = requests.get(url)\n",
    "\n",
    "# 检查响应状态码\n",
    "if response.status_code == 200:\n",
    "    # 解析 HTML 内容\n",
    "    html_content = response.text\n",
    "    \n",
    "    # 现在使用 BeautifulSoup 对 html_content 进行解析和提取所需信息\n",
    "    soup = BeautifulSoup(html_content, 'html.parser')\n",
    "    # 找到所有的<li>元素\n",
    "    staff_list = soup.find_all('li', class_='grid-col-12 tablet:grid-col-6 margin-y-1')\n",
    "    \n",
    "else:\n",
    "    print('Failed to retrieve HTML content. Status code:', response.status_code)\n"
   ]
  },
  {
   "cell_type": "code",
   "execution_count": 17,
   "metadata": {},
   "outputs": [],
   "source": [
    "import pandas as pd\n",
    "# 创建一个空列表来保存搜索结果\n",
    "search_results = []\n",
    "\n",
    "\n",
    "\n",
    "# 遍历每个<li>元素\n",
    "for staff_item in staff_list:\n",
    "    # 在<li>元素内找到<article>元素\n",
    "    article = staff_item.find('article', class_='profile-teaser__wrapper')\n",
    "    \n",
    "    # 在<article>元素内找到姓名、职位和电子邮件信息\n",
    "    name = article.find('span', class_='field--name-title').text.strip()\n",
    "    position = article.find('div', class_='profile-teaser__position').text.strip()\n",
    "    email = article.find('div', class_='field--name-field-staff-profile-email').text.strip()\n",
    "    \n",
    "    if email:\n",
    "        email = email\n",
    "    else:\n",
    "        email = None\n",
    "    \n",
    "    \n",
    "    # 在<article>元素内找到<a>标签，提取链接信息\n",
    "    link = article.find('a')['href']\n",
    "    # 将信息添加到搜索结果列表中\n",
    "    search_results.append({'Name': name, 'Position': position, 'Email': email, 'Link': link})\n",
    "\n",
    "# 将搜索结果转换为 DataFrame\n",
    "df = pd.DataFrame(search_results)\n"
   ]
  },
  {
   "cell_type": "code",
   "execution_count": 18,
   "metadata": {},
   "outputs": [],
   "source": [
    "###NOTICE\n",
    "\n",
    "\n",
    "nciPI = df#只第一次网页的时候使用"
   ]
  },
  {
   "cell_type": "code",
   "execution_count": null,
   "metadata": {},
   "outputs": [],
   "source": [
    "###NOTICE\n",
    "\n",
    "\n",
    "\n",
    "#将后面的网页内容合并上去，后几次用\n",
    "nciPI = pd.concat([nciPI, df], ignore_index=True)"
   ]
  },
  {
   "cell_type": "code",
   "execution_count": 19,
   "metadata": {},
   "outputs": [],
   "source": [
    "# 保存 DataFrame 到表格文件中，最后结果保存\n",
    "\n",
    "nciPI.to_csv('nci_PI_list.csv', index=False)"
   ]
  },
  {
   "cell_type": "markdown",
   "metadata": {},
   "source": [
    "# 整理名单"
   ]
  },
  {
   "cell_type": "code",
   "execution_count": 20,
   "metadata": {},
   "outputs": [],
   "source": [
    "import pandas as pd\n",
    "\n",
    "# 读取 CSV 文件\n",
    "df = pd.read_csv('nci_PI_list.csv')\n",
    "\n",
    "# 删除重复行，保留第一个出现的重复行\n",
    "df.drop_duplicates(keep='first', inplace=True)\n",
    "\n",
    "# 将结果写入新的 CSV 文件\n",
    "df.to_csv('nci_PI_list.csv', index=False)\n"
   ]
  },
  {
   "cell_type": "code",
   "execution_count": 21,
   "metadata": {},
   "outputs": [],
   "source": [
    "#将链接补全，注意别重复运行\n",
    "prefix = \"https://ccr.cancer.gov\"\n",
    "df[\"Link\"] = df[\"Link\"].apply(lambda x: prefix + x)\n",
    "# 将结果写入新的 CSV 文件\n",
    "df.to_csv('nci_PI_list.csv', index=False)"
   ]
  },
  {
   "cell_type": "code",
   "execution_count": 23,
   "metadata": {},
   "outputs": [
    {
     "name": "stdout",
     "output_type": "stream",
     "text": [
      "                          Name                        Position  \\\n",
      "0         Urbain Weyemi, Ph.D.           Stadtman Investigator   \n",
      "1           Sue Wickner, Ph.D.  NIH Distinguished Investigator   \n",
      "2   Brigitte C. Widemann, M.D.                           Chief   \n",
      "3  Wyndham Wilson, M.D., Ph.D.             Senior Investigator   \n",
      "4     David A. Wink Jr., Ph.D.                    Deputy Chief   \n",
      "\n",
      "                   Email                                               Link  \\\n",
      "0  urbain.weyemi@nih.gov  https://ccr.cancer.gov/staff-directory/urbain-...   \n",
      "1  wickners@mail.nih.gov  https://ccr.cancer.gov/staff-directory/sue-wic...   \n",
      "2          bw42y@nih.gov  https://ccr.cancer.gov/staff-directory/brigitt...   \n",
      "3   wilsonw@mail.nih.gov  https://ccr.cancer.gov/staff-directory/wyndham...   \n",
      "4      wink@mail.nih.gov  https://ccr.cancer.gov/staff-directory/david-a...   \n",
      "\n",
      "                                  areas_of_expertise  \n",
      "0  Cancer Metabolism, Cancer Metabolism, Cancer a...  \n",
      "1  Molecular Mechanisms of Cancer, Molecular Mech...  \n",
      "2  Rare Tumors, Rare Tumors, Pediatric Cancers, P...  \n",
      "3  Diagnostics and Biomarkers, Diagnostics and Bi...  \n",
      "4  Molecular Mechanisms of Cancer, Molecular Mech...  \n"
     ]
    }
   ],
   "source": [
    "#遍历名单中的每个链接，然后访问链接对应的页面并提取\"Areas of Expertise\"的内容\n",
    "import pandas as pd\n",
    "import requests\n",
    "from bs4 import BeautifulSoup\n",
    "\n",
    "# name_list是一个DataFrame\n",
    "name_list = pd.read_csv('nci_PI_list.csv')\n",
    "\n",
    "# 定义一个函数来获取\"Areas of Expertise\"的内容\n",
    "def get_areas_of_expertise(Link):\n",
    "    try:\n",
    "        response = requests.get(Link)\n",
    "        if response.status_code == 200:\n",
    "            html = response.text\n",
    "            soup = BeautifulSoup(html, 'html.parser')\n",
    "            areas_of_expertise_elem = soup.find('div', class_='field--name-field-areas-of-expertise')\n",
    "            if areas_of_expertise_elem:\n",
    "                areas_of_expertise = [item.text.strip() for item in areas_of_expertise_elem.find_all('div', class_='field__item')]\n",
    "                return ', '.join(areas_of_expertise)\n",
    "    except:\n",
    "        pass\n",
    "    return 'None'\n",
    "\n",
    "# 在DataFrame中应用函数来获取\"Areas of Expertise\"的内容\n",
    "name_list['areas_of_expertise'] = name_list['Link'].apply(get_areas_of_expertise)\n",
    "\n",
    "# 打印更新后的DataFrame\n",
    "print(name_list.head())\n"
   ]
  },
  {
   "cell_type": "code",
   "execution_count": 30,
   "metadata": {},
   "outputs": [
    {
     "name": "stdout",
     "output_type": "stream",
     "text": [
      "                          Name                        Position  \\\n",
      "0         Urbain Weyemi, Ph.D.           Stadtman Investigator   \n",
      "1           Sue Wickner, Ph.D.  NIH Distinguished Investigator   \n",
      "2   Brigitte C. Widemann, M.D.                           Chief   \n",
      "3  Wyndham Wilson, M.D., Ph.D.             Senior Investigator   \n",
      "4     David A. Wink Jr., Ph.D.                    Deputy Chief   \n",
      "\n",
      "                   Email                                               Link  \\\n",
      "0  urbain.weyemi@nih.gov  https://ccr.cancer.gov/staff-directory/urbain-...   \n",
      "1  wickners@mail.nih.gov  https://ccr.cancer.gov/staff-directory/sue-wic...   \n",
      "2          bw42y@nih.gov  https://ccr.cancer.gov/staff-directory/brigitt...   \n",
      "3   wilsonw@mail.nih.gov  https://ccr.cancer.gov/staff-directory/wyndham...   \n",
      "4      wink@mail.nih.gov  https://ccr.cancer.gov/staff-directory/david-a...   \n",
      "\n",
      "                                  areas_of_expertise  \\\n",
      "0  Cancer Metabolism, Cancer Metabolism, Cancer a...   \n",
      "1  Molecular Mechanisms of Cancer, Molecular Mech...   \n",
      "2  Rare Tumors, Rare Tumors, Pediatric Cancers, P...   \n",
      "3  Diagnostics and Biomarkers, Diagnostics and Bi...   \n",
      "4  Molecular Mechanisms of Cancer, Molecular Mech...   \n",
      "\n",
      "                   Building                  Location         Phone  \n",
      "0   Building 37, Room 4016A        Bethesda, MD 20892  240-760-6363  \n",
      "1    Building 37, Room 5144        Bethesda, MD 20892  240-760-7897  \n",
      "2  Building 10, Room 1-3752        Bethesda, MD 20892  240-760-6203  \n",
      "3  Building 10, Room 12C436   Bethesda, MD 20892-1203  240-760-6092  \n",
      "4    Building 567, Room 254  Frederick, MD 21702-1201  301-846-7182  \n"
     ]
    }
   ],
   "source": [
    "#添加一列building，一列location，一列phone\n",
    "from bs4 import BeautifulSoup\n",
    "import requests\n",
    "\n",
    "# 从HTML页面中提取信息并返回一个字典\n",
    "def extract_info(Link):\n",
    "    response = requests.get(Link)\n",
    "    soup = BeautifulSoup(response.content, 'html.parser')\n",
    "    \n",
    "    building_tag = soup.find('li', class_='icon-building')\n",
    "    location_tag = soup.find('li', class_='icon-location')\n",
    "    phone_tag = soup.find('li', class_='icon-phone')\n",
    "    \n",
    "    building = building_tag.text.strip() if building_tag else 'None'\n",
    "    location = location_tag.text.strip() if location_tag else 'None'\n",
    "    phone = phone_tag.text.strip() if phone_tag else 'None'\n",
    "    \n",
    "    return {'Building': building, 'Location': location, 'Phone': phone}\n",
    "\n",
    "# 对name list中的每个链接提取信息，并将结果添加到新的列中\n",
    "name_list['Building'] = name_list['Link'].apply(lambda link: extract_info(link).get('Building', 'None'))\n",
    "name_list['Location'] = name_list['Link'].apply(lambda link: extract_info(link).get('Location', 'None'))\n",
    "name_list['Phone'] = name_list['Link'].apply(lambda link: extract_info(link).get('Phone', 'None'))\n",
    "\n",
    "# 打印更新后的DataFrame\n",
    "print(name_list.head())"
   ]
  },
  {
   "cell_type": "code",
   "execution_count": 31,
   "metadata": {},
   "outputs": [
    {
     "name": "stdout",
     "output_type": "stream",
     "text": [
      "                          Name                        Position  \\\n",
      "0         Urbain Weyemi, Ph.D.           Stadtman Investigator   \n",
      "1           Sue Wickner, Ph.D.  NIH Distinguished Investigator   \n",
      "2   Brigitte C. Widemann, M.D.                           Chief   \n",
      "3  Wyndham Wilson, M.D., Ph.D.             Senior Investigator   \n",
      "4     David A. Wink Jr., Ph.D.                    Deputy Chief   \n",
      "\n",
      "                   Email                                               Link  \\\n",
      "0  urbain.weyemi@nih.gov  https://ccr.cancer.gov/staff-directory/urbain-...   \n",
      "1  wickners@mail.nih.gov  https://ccr.cancer.gov/staff-directory/sue-wic...   \n",
      "2          bw42y@nih.gov  https://ccr.cancer.gov/staff-directory/brigitt...   \n",
      "3   wilsonw@mail.nih.gov  https://ccr.cancer.gov/staff-directory/wyndham...   \n",
      "4      wink@mail.nih.gov  https://ccr.cancer.gov/staff-directory/david-a...   \n",
      "\n",
      "                                  areas_of_expertise  \\\n",
      "0  Cancer Metabolism, Cancer Metabolism, Cancer a...   \n",
      "1  Molecular Mechanisms of Cancer, Molecular Mech...   \n",
      "2  Rare Tumors, Rare Tumors, Pediatric Cancers, P...   \n",
      "3  Diagnostics and Biomarkers, Diagnostics and Bi...   \n",
      "4  Molecular Mechanisms of Cancer, Molecular Mech...   \n",
      "\n",
      "                   Building                  Location         Phone  \\\n",
      "0   Building 37, Room 4016A        Bethesda, MD 20892  240-760-6363   \n",
      "1    Building 37, Room 5144        Bethesda, MD 20892  240-760-7897   \n",
      "2  Building 10, Room 1-3752        Bethesda, MD 20892  240-760-6203   \n",
      "3  Building 10, Room 12C436   Bethesda, MD 20892-1203  240-760-6092   \n",
      "4    Building 567, Room 254  Frederick, MD 21702-1201  301-846-7182   \n",
      "\n",
      "                                    Research Summary  \n",
      "0  Dr. Weyemi is a molecular biologist who invest...  \n",
      "1  Dr. Wickner's laboratory has contributed to th...  \n",
      "2  Dr. Brigitte Widemann is a pediatric oncologis...  \n",
      "3  Although significant strides have been made in...  \n",
      "4  Over the course of the last decade it has beco...  \n"
     ]
    }
   ],
   "source": [
    "#将research summary的文字内容添加到name list里面\n",
    "from bs4 import BeautifulSoup\n",
    "import requests\n",
    "\n",
    "# 从HTML页面中提取文本内容\n",
    "def extract_text(link):\n",
    "    response = requests.get(link)\n",
    "    soup = BeautifulSoup(response.content, 'html.parser')\n",
    "    \n",
    "    research_summary = soup.find('h2', text='RESEARCH SUMMARY')\n",
    "    if research_summary:\n",
    "        summary_text = ''\n",
    "        for sibling in research_summary.find_next_siblings():\n",
    "            if sibling.name == 'h2':\n",
    "                break\n",
    "            if sibling.name == 'p':\n",
    "                summary_text += sibling.get_text() + '\\n'\n",
    "        return summary_text.strip()\n",
    "    else:\n",
    "        return 'None'\n",
    "\n",
    "# 对name list中的每个链接提取文本内容，并将结果添加到新的列中\n",
    "name_list['Research Summary'] = name_list['Link'].apply(lambda link: extract_text(link))\n",
    "\n",
    "# 打印更新后的DataFrame\n",
    "print(name_list.head())"
   ]
  },
  {
   "cell_type": "code",
   "execution_count": 32,
   "metadata": {},
   "outputs": [],
   "source": [
    "# 保存 DataFrame 到表格文件中\n",
    "name_list.to_csv('nci_PI_list.csv', index=False)"
   ]
  },
  {
   "cell_type": "code",
   "execution_count": null,
   "metadata": {},
   "outputs": [],
   "source": []
  },
  {
   "cell_type": "code",
   "execution_count": null,
   "metadata": {},
   "outputs": [],
   "source": []
  }
 ],
 "metadata": {
  "kernelspec": {
   "display_name": "Python 3",
   "language": "python",
   "name": "python3"
  },
  "language_info": {
   "codemirror_mode": {
    "name": "ipython",
    "version": 3
   },
   "file_extension": ".py",
   "mimetype": "text/x-python",
   "name": "python",
   "nbconvert_exporter": "python",
   "pygments_lexer": "ipython3",
   "version": "3.7.4"
  }
 },
 "nbformat": 4,
 "nbformat_minor": 2
}
